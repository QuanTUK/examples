{
 "cells": [
  {
   "attachments": {},
   "cell_type": "markdown",
   "metadata": {},
   "source": [
    "# Building your own quantum simulator\n",
    "## 1. Quick Recap\n",
    "Basis states are vectors in $\\mathbb{C}^2$:<br/>\n",
    "The Ket-Vectors are 2-by-1 (2,1)<br/>\n",
    "$\\begin{aligned}\n",
    "|0\\rangle &= \\begin{pmatrix}1\\\\0\\end{pmatrix}\\\\  |1\\rangle&=\\begin{pmatrix}0\\\\1\\end{pmatrix}\n",
    "\\end{aligned}$\n",
    "\n",
    "The Bra-Vectors are 1-by-2 (1,2)<br/>\n",
    "$\\begin{aligned}\n",
    "\\langle0| &= \\begin{pmatrix}1&0\\end{pmatrix}\\\\ \\langle1|&=\\begin{pmatrix}0&1\\end{pmatrix}\n",
    "\\end{aligned}$\n",
    "\n",
    "In python we use numpy arrays"
   ]
  },
  {
   "cell_type": "code",
   "execution_count": 12,
   "metadata": {},
   "outputs": [
    {
     "name": "stdout",
     "output_type": "stream",
     "text": [
      "(1, 2)\n"
     ]
    }
   ],
   "source": [
    "import numpy as np\n",
    "\n",
    "# To get the ket vectors one can either use this nested lists argument\n",
    "ket0 = np.array([[1],[0]])\n",
    "ket1 = np.array([[0],[1]])\n",
    "\n",
    "# or reshape\n",
    "ket0 = np.array([1,0]).reshape(2, 1) \n",
    "ket1 = np.array([0,1]).reshape(2, 1)\n",
    "\n",
    "# To get the bra vectors\n",
    "bra0 = np.array([1,0]).reshape(1, 2) \n",
    "bra1 = np.array([0,1]).reshape(1, 2) \n",
    "\n",
    "print(bra0.shape)"
   ]
  },
  {
   "attachments": {},
   "cell_type": "markdown",
   "metadata": {},
   "source": [
    "## 2 Single-Qubit\n",
    "### 2.1 Superposition states\n",
    "The state of a qubit is described as a superposition of $|0\\rangle$ and $|1\\rangle$\n",
    "\n",
    "$\\begin{aligned}\n",
    "|\\psi\\rangle = \\alpha|0\\rangle + \\beta |1\\rangle\n",
    "\\end{aligned}$\n",
    "\n",
    "where $\\alpha, \\beta \\in \\mathbb{C}$.<br/>\n",
    "Moreover this state has to be normed, hence <br/>\n",
    "\n",
    "$\\begin{aligned}\n",
    "||\\psi\\rangle| &= \\sqrt{\\alpha^2 + \\beta^2} &= 1\\\\\\Rightarrow ||\\psi\\rangle|^2 &= \\alpha^2 + \\beta^2 &=1\n",
    "\\end{aligned}$\n",
    "\n",
    "To normalize a given state <br/>\n",
    "\n",
    "$\\begin{aligned}\n",
    "|\\psi'\\rangle = \\frac{|\\psi\\rangle}{||\\psi\\rangle|} = \\frac{|\\psi\\rangle}{\\sqrt{\\alpha^2 + \\beta^2}}\n",
    "\\end{aligned}$\n",
    "\n",
    "**Task:** Build some superposition $|\\psi\\rangle$ state of your choice"
   ]
  },
  {
   "cell_type": "code",
   "execution_count": 13,
   "metadata": {},
   "outputs": [],
   "source": [
    "# complex magnitudes for building a qubit state\n",
    "a, b = 2, 1j\n",
    "\n",
    "# building a superposition\n",
    "psi = a * ket0 + b * ket1\n",
    "\n",
    "# Attention. One has to normalize\n",
    "psi_normed = psi / np.linalg.norm(psi)"
   ]
  },
  {
   "attachments": {},
   "cell_type": "markdown",
   "metadata": {},
   "source": [
    "### 2.2 Operations for single qubits\n",
    "\n",
    "Operations with qubits are called Quantum Gates.<br/>\n",
    "Quantum Gates are matrices in $\\mathbb{C}^{2\\times2}$ (2,2), e.g. \n",
    "\n",
    "the Hadamard Gate:<br/>\n",
    "\n",
    "$\\begin{aligned}\n",
    "H &= \\frac{1}{\\sqrt{2}}\\begin{pmatrix}1&1\\\\1&-1\\end{pmatrix}\n",
    "\\end{aligned}$\n",
    "\n",
    "or the Not-/Pauli-X Gate:<br/>\n",
    "\n",
    "$\\begin{aligned}\n",
    "    X &= \\begin{pmatrix}0&1\\\\1&0\\end{pmatrix}\n",
    "\\end{aligned}$\n",
    "\n",
    "or the Phase Gate:<br/>\n",
    "\n",
    "$\\begin{aligned}\n",
    "    P &= \\begin{pmatrix}1&0\\\\0&e^{i\\Phi}\\end{pmatrix}\n",
    "\\end{aligned}$\n",
    "\n",
    "\n",
    "or other gates known form the lecture\n",
    "\n",
    "**Task:** Create the Hadamard, Pauli-X and Phase Gate using numpy arrays"
   ]
  },
  {
   "cell_type": "code",
   "execution_count": 14,
   "metadata": {},
   "outputs": [],
   "source": [
    "# compare definitions in __init__() in qc_education_package/simulator.py    \n",
    "# Hadamard gate\n",
    "H = 1 / np.sqrt(2) * np.array([[1,1],[1,-1]])  \n",
    "\n",
    "# Not or Pauli X gate\n",
    "X = np.array([[0,1],[1,0]]) \n",
    "\n",
    "# Phase gate\n",
    "P  = lambda phi : np.array([[1,0],[0,np.exp(1j * phi)]], dtype=complex) "
   ]
  },
  {
   "attachments": {},
   "cell_type": "markdown",
   "metadata": {},
   "source": [
    "To work with this superposition state we can apply quantum gates.<br/>\n",
    "Applying a quantum gate to a state is done multiplying the appropriate matrix product.\n",
    "\n",
    "E.g. applying the Hadamard $H$ to a normed state $|\\psi\\rangle$:  <br/>\n",
    "\n",
    "$\\begin{aligned}\n",
    "\\psi &= 1 \\cdot |0\\rangle + 0 \\cdot|1\\rangle\\\\\n",
    "\\Rightarrow H \\times |\\psi\\rangle &= H \\times |0\\rangle = \\frac{1}{\\sqrt(2)}\\begin{pmatrix}1\\\\1\\end{pmatrix}\n",
    "\\end{aligned}$\n",
    "\n",
    "**Task:** Create a superposition state $|\\psi\\rangle$ and apply the hadamard gate"
   ]
  },
  {
   "cell_type": "code",
   "execution_count": 15,
   "metadata": {},
   "outputs": [],
   "source": [
    "# Build some normed state\n",
    "psi = 1 * ket0 + 0 * ket1\n",
    "\n",
    "# Apply had\n",
    "had_psi = H @ psi\n",
    "\n",
    "# Hint: In Python version >3.5 this equals\n",
    "had_psi = H.__matmul__(psi)\n",
    "had_psi = np.matmul(H, psi)"
   ]
  },
  {
   "attachments": {},
   "cell_type": "markdown",
   "metadata": {},
   "source": [
    "**Task:** Check the output matrix and compare with the analytical solution known from the lecture"
   ]
  },
  {
   "cell_type": "code",
   "execution_count": 16,
   "metadata": {},
   "outputs": [
    {
     "name": "stdout",
     "output_type": "stream",
     "text": [
      "[[0.70710678]\n",
      " [0.70710678]]\n"
     ]
    }
   ],
   "source": [
    "print(had_psi)"
   ]
  },
  {
   "attachments": {},
   "cell_type": "markdown",
   "metadata": {},
   "source": [
    "Lets output nice by formatting the output string"
   ]
  },
  {
   "cell_type": "code",
   "execution_count": 17,
   "metadata": {},
   "outputs": [
    {
     "name": "stdout",
     "output_type": "stream",
     "text": [
      "[[+0.707]\n",
      " [+0.707]]\n"
     ]
    }
   ],
   "source": [
    "# format output strings using numpy\n",
    "def printnice(arr: np.array, pre=3) -> str:\n",
    "    nice = np.array2string(arr, precision=pre,  sign='+')\n",
    "    print(nice)\n",
    "\n",
    "\n",
    "printnice(had_psi)"
   ]
  },
  {
   "attachments": {},
   "cell_type": "markdown",
   "metadata": {},
   "source": [
    "### 2.3 Measuring a single qubit  \n",
    "One can probe the probability for the superposition state to be in either $|0\\rangle$ or $|1\\rangle$ be using a projective measurement.<br/>\n",
    "\n",
    "By defining the projectors (See Exercise 2 26.06.23)<br/> \n",
    "\n",
    "$\\begin{aligned}\n",
    "P_{|0\\rangle} =\\tilde{n} &=|0\\rangle \\langle 0| &= \\begin{pmatrix}1&0\\\\0&0\\end{pmatrix}\\\\\n",
    "P_{|1\\rangle} = n &= |1\\rangle \\langle 1| &= \\begin{pmatrix}0&0\\\\0&1\\end{pmatrix}\n",
    "\\end{aligned}$\n",
    "\n",
    "the state $\\psi$ is projected into the subspace defined by $|0\\rangle$ resp. $|1\\rangle$<br/>\n",
    "\n",
    "$\\begin{aligned}\n",
    "P_{|0\\rangle} \\times |\\psi\\rangle todo make this red and blue\\\\\n",
    "P_{|1\\rangle} \\times |\\psi\\rangle\n",
    "\\end{aligned}$\n",
    "\n",
    "Recalling the representation of a state in the complex plane (Exercise 1 28.04.23 - MathAndCoding[...].ipynb) gives an good intuitive idea of whats happening here:\n",
    "![Alt text](proj.svg)\n",
    "\\ \n",
    "\n",
    "\n",
    "To get the probabilities for measuring either $|0\\rangle$ or $|1\\rangle$, one has to calculate the squared absolute value of the projected states in the corresponding space. <br/>\n",
    "**Compare:** Exercise 2 - 26.05.23<br/>\n",
    "\n",
    "$\\begin{aligned}\n",
    "p_{|0\\rangle} &= |P_{|0\\rangle}\\times|\\psi\\rangle|^2 \\quad\\big[= (|0\\rangle \\langle 0|\\psi\\rangle)^*\\ |0\\rangle \\langle 0||\\psi\\rangle = \\langle\\psi^*|0\\rangle \\underbrace{\\langle 0|0\\rangle}_{=1} \\langle 0|\\psi\\rangle = \\langle\\psi^*|0\\rangle \\langle 0|\\psi\\rangle \\big]\\\\\n",
    "p_{|1\\rangle} &= |P_{|1\\rangle}\\times|\\psi\\rangle|^2 \\quad\\big[= ... \\big]\n",
    "\\end{aligned}$\n",
    "\n",
    "\n",
    "**Recall:** Measuring a single qubit will collaps the superposition state into a subspace, leading either to state $|0\\rangle$ or $|1\\rangle$<br/>\n",
    "\n",
    "**Task:** Measure the state given below."
   ]
  },
  {
   "cell_type": "code",
   "execution_count": 18,
   "metadata": {},
   "outputs": [
    {
     "name": "stdout",
     "output_type": "stream",
     "text": [
      "Measuring state\n",
      "[[+0.707]\n",
      " [+0.707]]\n",
      "by projective measurement\n",
      "\n",
      "Projection to span(|0>) using projector\n",
      "[[1 0]\n",
      " [0 0]]\n",
      "with outcome\n",
      "[[+0.707]\n",
      " [+0.   ]]\n",
      "\n",
      "Projection to span(|1>) using projector\n",
      "[[0 0]\n",
      " [0 1]]\n",
      "with outcome\n",
      "[[+0.   ]\n",
      " [+0.707]]\n",
      "\n",
      "Probabilities are 50.00% for $|0>, and  50.00% for $|1>\n",
      "Measured state is |0>\n"
     ]
    }
   ],
   "source": [
    "print(\"Measuring state\")\n",
    "printnice(had_psi)\n",
    "print(\"by projective measurement\\n\")\n",
    "\n",
    "print(\"Projection to span(|0>) using projector\")\n",
    "pro0 = ket0 @ bra0 \n",
    "printnice(pro0)\n",
    "print(\"with outcome\")\n",
    "\n",
    "\n",
    "\n",
    "state0 = pro0 @ had_psi\n",
    "printnice(state0)\n",
    "\n",
    "print(\"\\nProjection to span(|1>) using projector\")\n",
    "pro1 = ket1 @ bra1 \n",
    "printnice(pro1)\n",
    "print(\"with outcome\")\n",
    "state1 = pro1 @ had_psi\n",
    "printnice(state1)\n",
    "\n",
    "p0 = np.linalg.norm(state0)**2\n",
    "p1 = np.linalg.norm(state1)**2\n",
    "print(f\"\\nProbabilities are {p0:2.2%} for $|0>, and  {p1:2.2%} for $|1>\")\n",
    "\n",
    "# Measuring the outcome = Random choice according to probabilities\n",
    "result = np.random.choice(a=[0,1], p=[p0, p1])\n",
    "print(f\"Measured state is |{result:1d}>\")"
   ]
  },
  {
   "attachments": {},
   "cell_type": "markdown",
   "metadata": {},
   "source": [
    "## 3. Multiple qubits\n",
    "\n",
    "The following section will introduce working/simulating systems with multiple qubits.\n",
    "The shown concepts are general and can be extended for arbitrary many qubits.\n",
    "\n",
    "### 3.1 Building a quantum register\n",
    "**Recall:** Slides Lecture 3\n",
    "The Kronecker product is used to build a quantum register out of $n$ qubits<br/>\n",
    "\n",
    "$\\begin{aligned}\n",
    "\\begin{pmatrix}a\\\\b\\end{pmatrix} \\otimes \\begin{pmatrix}c\\\\d\\end{pmatrix} = \\begin{pmatrix}a\\begin{pmatrix}c\\\\d\\end{pmatrix}\\\\b\\begin{pmatrix}c\\\\d\\end{pmatrix}\\end{pmatrix} = \\begin{pmatrix}ac\\\\ad\\\\bc\\\\bd\\end{pmatrix}\n",
    "\\end{aligned}$\n",
    "\n",
    "This will lead to a vector in $\\mathbb{C}^{2^n}$ or a register with $2^n$ values.<br/>\n",
    "E.g. the 3 qubit state \n",
    "\n",
    "$\\begin{aligned}\n",
    "0x5: |101\\rangle := |1\\rangle_3 \\otimes |0\\rangle_2 \\otimes |1\\rangle_1 = \\begin{pmatrix}0\\\\1\\end{pmatrix}\\otimes\\begin{pmatrix}1\\\\0\\end{pmatrix}\\otimes\\begin{pmatrix}0\\\\1\\end{pmatrix} = \\begin{pmatrix}0\\\\1\\end{pmatrix}\\otimes\\begin{pmatrix}1 \\begin{pmatrix}0\\\\1\\end{pmatrix}\\\\ 0 \\begin{pmatrix}0\\\\1\\end{pmatrix}\\end{pmatrix} = \\begin{pmatrix}0\\\\1\\end{pmatrix}\\otimes\\begin{pmatrix}0\\\\1\\\\0\\\\0\\end{pmatrix}  = \\begin{pmatrix}0\\begin{pmatrix}0\\\\1\\\\0\\\\0\\end{pmatrix}\\\\1\\begin{pmatrix}0\\\\1\\\\0\\\\0\\end{pmatrix}\\end{pmatrix}=\\begin{pmatrix}0\\\\0\\\\0\\\\0\\\\0\\\\1\\\\0\\\\0\\end{pmatrix}\n",
    "\\end{aligned}$\n",
    "\n",
    "**Attention:** As well as the matrix product the kronecker product does **not** commute. The execution order is crucial for the outcome. Moreover the representation and calculation above is used for a quantum register with big endian encoding. Analog to classical registers the least significant bit is the rightmost.  <br/>\n",
    "\n",
    "**Task:** Create the produt state $|101\\rangle$"
   ]
  },
  {
   "cell_type": "code",
   "execution_count": 19,
   "metadata": {},
   "outputs": [
    {
     "name": "stdout",
     "output_type": "stream",
     "text": [
      "[[0]\n",
      " [0]\n",
      " [0]\n",
      " [0]\n",
      " [0]\n",
      " [1]\n",
      " [0]\n",
      " [0]]\n"
     ]
    }
   ],
   "source": [
    "# Build a 3 qubit register to decode 5 in binary\n",
    "# Nested kronecker product to replicate terms above\n",
    "reg5 = np.kron(ket1, np.kron(ket0, ket1))\n",
    "\n",
    "printnice(reg5)"
   ]
  },
  {
   "attachments": {},
   "cell_type": "markdown",
   "metadata": {},
   "source": [
    "The nested ```np.kron(...)``` in above code snippet is very tedious to write. Since those kronecker operations will get longer as soon as gates for multiple qubits are introduced, it is useful to write a helperfunction to calculate long terms with kronecker products.\n",
    "\n",
    "**Task:** Build a helper method for nested kronecker products"
   ]
  },
  {
   "cell_type": "code",
   "execution_count": 20,
   "metadata": {},
   "outputs": [],
   "source": [
    "# compare _nKron() in qc_education_package/simulator.py    \n",
    "def nKron(ops_to_kron) -> np.array:\n",
    "    result = 1\n",
    "    for i in ops_to_kron: # big endian bitorder                \n",
    "        result = np.kron(result, i)     \n",
    "    return result\n",
    "\n",
    "# Can be shorter using functools.reduce() \n",
    "# See https://docs.python.org/3/library/functools.html#functools.reduce"
   ]
  },
  {
   "attachments": {},
   "cell_type": "markdown",
   "metadata": {},
   "source": [
    "With this it is now possible to encode integer values into a quantum register.<br/>\n",
    "\n",
    "**Task:** Create a method to encode integers in a superposition state of $n$ qubits using the ```nKron(...)``` method from above."
   ]
  },
  {
   "cell_type": "code",
   "execution_count": 21,
   "metadata": {},
   "outputs": [
    {
     "name": "stdout",
     "output_type": "stream",
     "text": [
      "\n",
      "Encoding 0 with 3 qubits\n",
      "[0 0 0]\n",
      "[1 0 0 0 0 0 0 0]\n",
      "\n",
      "Encoding 1 with 3 qubits\n",
      "[0 0 1]\n",
      "[0 1 0 0 0 0 0 0]\n",
      "\n",
      "Encoding 2 with 3 qubits\n",
      "[0 1 0]\n",
      "[0 0 1 0 0 0 0 0]\n",
      "\n",
      "Encoding 3 with 3 qubits\n",
      "[0 1 1]\n",
      "[0 0 0 1 0 0 0 0]\n",
      "\n",
      "Encoding 4 with 3 qubits\n",
      "[1 0 0]\n",
      "[0 0 0 0 1 0 0 0]\n",
      "\n",
      "Encoding 5 with 3 qubits\n",
      "[1 0 1]\n",
      "[0 0 0 0 0 1 0 0]\n",
      "\n",
      "Encoding 6 with 3 qubits\n",
      "[1 1 0]\n",
      "[0 0 0 0 0 0 1 0]\n",
      "\n",
      "Encoding 7 with 3 qubits\n",
      "[1 1 1]\n",
      "[0 0 0 0 0 0 0 1]\n"
     ]
    }
   ],
   "source": [
    "# compare write_integer() in qc_education_package/simulator.py\n",
    "def write_integer(num, n):\n",
    "    Q_bits = [] # Listing the terms for the kronecker product\n",
    "    bval = np.array(list(np.binary_repr(num).zfill(n)), dtype=np.int8) # This will encode the number into binary e.g. 5 to 101\n",
    "    print(bval)\n",
    "    for d in bval: # iteratate over binary digits\n",
    "        Q_bits.append(ket1 if d else ket0) # append state |1> if digit is 1 and |0> if digit is 0\n",
    "    register = nKron(Q_bits).flatten() # apply nested kronecker product & flatten output to not get 2D array\n",
    "    return register\n",
    "\n",
    "n = 3\n",
    "# Test the function\n",
    "for num in range(2**n):\n",
    "    print(f'\\nEncoding {num} with {n} qubits')\n",
    "    printnice(write_integer(num, n))"
   ]
  },
  {
   "attachments": {},
   "cell_type": "markdown",
   "metadata": {},
   "source": [
    "**Hint:** During the math and coding afternoons another nice approach using the computational basis i-th basis vector to encode an integer i was shown. The approach below seemed to be more instrumental to introduce working with product states using the kronecker product <br/>"
   ]
  },
  {
   "attachments": {},
   "cell_type": "markdown",
   "metadata": {},
   "source": [
    "### 3.2 Building universal gates\n",
    "\n",
    "Gates can be applied to multiple qubits like before by applying a single qubit gate to the corresponding qubit.\n",
    "\n",
    "$\\begin{aligned}\n",
    "T_1 = (H\\times|1\\rangle_3) \\otimes (H\\times|0\\rangle_2) \\otimes (H\\times|1\\rangle_1) \n",
    "\\end{aligned}$\n",
    "\n",
    "This way it is not possible to apply multi qubit gates to unknown states.\n",
    "One can use a [property of the Krokecker product](https://en.wikipedia.org/wiki/Kronecker_product#Relations_to_other_matrix_operations) to pull apart gates/operators and the qubits/register.\n",
    "\n",
    "$\\begin{aligned}\n",
    "T_1 = (H\\otimes H\\otimes H)\\times(|1\\rangle_3 \\otimes |0\\rangle_2 \\otimes |1\\rangle_1) = (H\\otimes H\\otimes H)\\times|101\\rangle =: O\\times\\psi\n",
    "\\end{aligned}$\n",
    "\n",
    "This way one can create universal quantum gates for any superposition state $\\psi$ of $n$ qubits. In this example $\\psi=|101\\rangle$ and $O = H\\otimes H\\otimes H$.<br/>\n",
    "\n",
    "**Mind:** In contrast to the single qubit gates the generated multi qubit operation/matrix $O$ operates in the computational basis of the system with $n=3$ qubits ($\\mathbb{C}^{2^n}=\\mathbb{C}^{8})$.<br/>\n",
    "\n",
    "**Task:** Build a quantum gate for applying the Hadamard gate to all (3) qubits\n"
   ]
  },
  {
   "cell_type": "code",
   "execution_count": 22,
   "metadata": {},
   "outputs": [
    {
     "name": "stdout",
     "output_type": "stream",
     "text": [
      "[1 0 1]\n",
      "Starting with state\n",
      "[0 0 0 0 0 1 0 0]\n",
      "\n",
      "List of operators to be applied to the single qubits\n",
      "[array([[ 0.70710678,  0.70710678],\n",
      "       [ 0.70710678, -0.70710678]]), array([[ 0.70710678,  0.70710678],\n",
      "       [ 0.70710678, -0.70710678]]), array([[ 0.70710678,  0.70710678],\n",
      "       [ 0.70710678, -0.70710678]])]\n",
      "\n",
      "Matrix for applying had to all 3 qubits\n",
      "[[+0.354 +0.354 +0.354 +0.354 +0.354 +0.354 +0.354 +0.354]\n",
      " [+0.354 -0.354 +0.354 -0.354 +0.354 -0.354 +0.354 -0.354]\n",
      " [+0.354 +0.354 -0.354 -0.354 +0.354 +0.354 -0.354 -0.354]\n",
      " [+0.354 -0.354 -0.354 +0.354 +0.354 -0.354 -0.354 +0.354]\n",
      " [+0.354 +0.354 +0.354 +0.354 -0.354 -0.354 -0.354 -0.354]\n",
      " [+0.354 -0.354 +0.354 -0.354 -0.354 +0.354 -0.354 +0.354]\n",
      " [+0.354 +0.354 -0.354 -0.354 -0.354 -0.354 +0.354 +0.354]\n",
      " [+0.354 -0.354 -0.354 +0.354 -0.354 +0.354 +0.354 -0.354]]\n",
      "\n",
      "Resulting state after applying  the matrix\n",
      "[[+0.354]\n",
      " [-0.354]\n",
      " [+0.354]\n",
      " [-0.354]\n",
      " [-0.354]\n",
      " [+0.354]\n",
      " [-0.354]\n",
      " [+0.354]]\n"
     ]
    }
   ],
   "source": [
    "# Build a state to apply universal quantum gates to\n",
    "psi = write_integer(5, n=3)\n",
    "print('Starting with state')\n",
    "printnice(psi)\n",
    "\n",
    "# Replicate the Operator term O from above\n",
    "# Prepare a list of all operators in correct order \n",
    "had3 = [H] * 3  \n",
    "print(\"\\nList of operators to be applied to the single qubits\")\n",
    "print(had3)\n",
    "\n",
    "\n",
    "# Calculate the gate in computational basis using the nested kronecker method\n",
    "O = nKron(had3)\n",
    "print('\\nMatrix for applying had to all 3 qubits')\n",
    "printnice(O)\n",
    "\n",
    "# Apply this gate to the state\n",
    "result = O @ reg5\n",
    "print(\"\\nResulting state after applying  the matrix\")\n",
    "printnice(result)\n"
   ]
  },
  {
   "attachments": {},
   "cell_type": "markdown",
   "metadata": {},
   "source": [
    "More general this approach can be utilized to apply any gate to a specific qubit.<br/>\n",
    "\n",
    "As another example take state $|101\\rangle$ and apply the X Gate to qubit 1 and the Phase-90 Gate to qubit 3.\n",
    "\n",
    "$\\begin{aligned}\n",
    "T_2 &= (X\\times|1\\rangle_3) \\otimes (|0\\rangle_2) \\otimes (P^{\\tfrac{\\pi}{2}}\\times|1\\rangle_1) =(X\\times|I\\rangle_3) \\otimes (\\mathbb{I}\\times|0\\rangle_2) \\otimes (P^{\\tfrac{\\pi}{2}}\\times|1\\rangle_1) \\\\\n",
    "&= (X\\otimes \\mathbb{I}\\otimes P^{\\tfrac{\\pi}{2}})\\times|101\\rangle\n",
    "\\end{aligned}$\n",
    "\n",
    "Here it is mandatory to note, that identity is applied to qubit 2. As a **rule of thumb** one could say the kronecker terms of a universal gate for $n$ qubits must consist of exactly $n$ single qubit gates/operations.<br/>\n",
    "\n",
    "**Task:** Build a quantum gate to apply the Not-Gate to qubit 1 and the Phase-90-Gate to qubit 3."
   ]
  },
  {
   "cell_type": "code",
   "execution_count": 23,
   "metadata": {},
   "outputs": [
    {
     "name": "stdout",
     "output_type": "stream",
     "text": [
      "[1 0 1]\n",
      "Starting with state\n",
      "[0 0 0 0 0 1 0 0]\n",
      "\n",
      "List of operators to be applied to the single qubits\n",
      "\n",
      "Matrix for applying X to qubit 1 and Phase-90 qubit 3\n",
      "[[+0.000e+00+0.j +0.000e+00+0.j +0.000e+00+0.j +0.000e+00+0.j\n",
      "  +1.000e+00+0.j +0.000e+00+0.j +0.000e+00+0.j +0.000e+00+0.j]\n",
      " [+0.000e+00+0.j +0.000e+00+0.j +0.000e+00+0.j +0.000e+00+0.j\n",
      "  +0.000e+00+0.j +6.123e-17+1.j +0.000e+00+0.j +0.000e+00+0.j]\n",
      " [+0.000e+00+0.j +0.000e+00+0.j +0.000e+00+0.j +0.000e+00+0.j\n",
      "  +0.000e+00+0.j +0.000e+00+0.j +1.000e+00+0.j +0.000e+00+0.j]\n",
      " [+0.000e+00+0.j +0.000e+00+0.j +0.000e+00+0.j +0.000e+00+0.j\n",
      "  +0.000e+00+0.j +0.000e+00+0.j +0.000e+00+0.j +6.123e-17+1.j]\n",
      " [+1.000e+00+0.j +0.000e+00+0.j +0.000e+00+0.j +0.000e+00+0.j\n",
      "  +0.000e+00+0.j +0.000e+00+0.j +0.000e+00+0.j +0.000e+00+0.j]\n",
      " [+0.000e+00+0.j +6.123e-17+1.j +0.000e+00+0.j +0.000e+00+0.j\n",
      "  +0.000e+00+0.j +0.000e+00+0.j +0.000e+00+0.j +0.000e+00+0.j]\n",
      " [+0.000e+00+0.j +0.000e+00+0.j +1.000e+00+0.j +0.000e+00+0.j\n",
      "  +0.000e+00+0.j +0.000e+00+0.j +0.000e+00+0.j +0.000e+00+0.j]\n",
      " [+0.000e+00+0.j +0.000e+00+0.j +0.000e+00+0.j +6.123e-17+1.j\n",
      "  +0.000e+00+0.j +0.000e+00+0.j +0.000e+00+0.j +0.000e+00+0.j]]\n",
      "\n",
      "Resulting state after applying  the matrix\n",
      "[[+0.000e+00+0.j]\n",
      " [+6.123e-17+1.j]\n",
      " [+0.000e+00+0.j]\n",
      " [+0.000e+00+0.j]\n",
      " [+0.000e+00+0.j]\n",
      " [+0.000e+00+0.j]\n",
      " [+0.000e+00+0.j]\n",
      " [+0.000e+00+0.j]]\n"
     ]
    }
   ],
   "source": [
    "# Number of qubits\n",
    "n = 3\n",
    "\n",
    "# Build a state to apply universal quantum gates to\n",
    "psi = write_integer(5, n)\n",
    "print('Starting with state')\n",
    "printnice(psi)\n",
    "\n",
    "\n",
    "# Generate Identity resp. computational basis\n",
    "I = np.identity(2)\n",
    "\n",
    "# Replicate the Operator term from above\n",
    "# Prepare a list of all operators in correct order \n",
    "ops = [X, I, P(np.pi/2)]\n",
    "print(\"\\nList of operators to be applied to the single qubits\")\n",
    "\n",
    "# Calculate the operator in computational basis using the nested kronecker method\n",
    "O2 = nKron(ops)\n",
    "print('\\nMatrix for applying X to qubit 1 and Phase-90 qubit 3')\n",
    "printnice(O2)\n",
    "\n",
    "# Apply this operator to the state\n",
    "result = O2 @ reg5\n",
    "print(\"\\nResulting state after applying  the matrix\")\n",
    "printnice(result)"
   ]
  },
  {
   "attachments": {},
   "cell_type": "markdown",
   "metadata": {},
   "source": [
    "Generating universal gates this way is still a bit tedious. By exploiting numpy array indexing one can at least build a method to apply a certain gate to a number of qubits at once\n",
    "\n",
    "**Task**: Create a helper method to create a multi qubit version of a gate applied to a subset of qubits."
   ]
  },
  {
   "cell_type": "code",
   "execution_count": 24,
   "metadata": {},
   "outputs": [],
   "source": [
    "# compare _operatorInBase() in qc_education_package/simulator.py\n",
    "def gateInBase(gate:np.array, qubit, n):\n",
    "    qubit = np.array(qubit, dtype=int) -1 # Indexing with a numpy array, Mind -1 for array indexing <-> qubit indexing\n",
    "    ops = np.array([np.identity(2)] * n, dtype=complex) # np array containing the operators. Identity at the beginning.\n",
    "    ops[qubit] = gate # Apply the gate for the choosen qubits by swapping Identity with gate matrix at given indexes\n",
    "    op =nKron(ops)\n",
    "    return op"
   ]
  },
  {
   "attachments": {},
   "cell_type": "markdown",
   "metadata": {},
   "source": [
    "With this one can now easily generate gates for multiple qubits. <br/>\n",
    "For example one can easily check what the matrices for applying the Hadamard gate to 1,2 or 3 qubits looks like and may realize certain patterns in the structure of the matrices.<br/>\n",
    "\n",
    "**Task:** Test the implementation of the ```gateInBase(...)``` with the code snippet below. Do the output matrices make sense?"
   ]
  },
  {
   "cell_type": "code",
   "execution_count": 25,
   "metadata": {},
   "outputs": [
    {
     "name": "stdout",
     "output_type": "stream",
     "text": [
      "Matrix for Hadamard gate on qubit 1\n",
      "[[+0.707 +0.    +0.    +0.    +0.707 +0.    +0.    +0.   ]\n",
      " [+0.    +0.707 +0.    +0.    +0.    +0.707 +0.    +0.   ]\n",
      " [+0.    +0.    +0.707 +0.    +0.    +0.    +0.707 +0.   ]\n",
      " [+0.    +0.    +0.    +0.707 +0.    +0.    +0.    +0.707]\n",
      " [+0.707 +0.    +0.    +0.    -0.707 -0.    -0.    -0.   ]\n",
      " [+0.    +0.707 +0.    +0.    -0.    -0.707 -0.    -0.   ]\n",
      " [+0.    +0.    +0.707 +0.    -0.    -0.    -0.707 -0.   ]\n",
      " [+0.    +0.    +0.    +0.707 -0.    -0.    -0.    -0.707]]\n",
      "\n",
      "Matrix for Hadamard gate on qubits 1,2\n",
      "[[+0.5 +0.  +0.5 +0.  +0.5 +0.  +0.5 +0. ]\n",
      " [+0.  +0.5 +0.  +0.5 +0.  +0.5 +0.  +0.5]\n",
      " [+0.5 +0.  -0.5 -0.  +0.5 +0.  -0.5 -0. ]\n",
      " [+0.  +0.5 -0.  -0.5 +0.  +0.5 -0.  -0.5]\n",
      " [+0.5 +0.  +0.5 +0.  -0.5 -0.  -0.5 -0. ]\n",
      " [+0.  +0.5 +0.  +0.5 -0.  -0.5 -0.  -0.5]\n",
      " [+0.5 +0.  -0.5 -0.  -0.5 -0.  +0.5 +0. ]\n",
      " [+0.  +0.5 -0.  -0.5 -0.  -0.5 +0.  +0.5]]\n",
      "\n",
      "Matrix for Hadamard gate on qubits 1,3\n",
      "[[+0.5 +0.5 +0.  +0.  +0.5 +0.5 +0.  +0. ]\n",
      " [+0.5 -0.5 +0.  -0.  +0.5 -0.5 +0.  -0. ]\n",
      " [+0.  +0.  +0.5 +0.5 +0.  +0.  +0.5 +0.5]\n",
      " [+0.  -0.  +0.5 -0.5 +0.  -0.  +0.5 -0.5]\n",
      " [+0.5 +0.5 +0.  +0.  -0.5 -0.5 -0.  -0. ]\n",
      " [+0.5 -0.5 +0.  -0.  -0.5 +0.5 -0.  +0. ]\n",
      " [+0.  +0.  +0.5 +0.5 -0.  -0.  -0.5 -0.5]\n",
      " [+0.  -0.  +0.5 -0.5 -0.  +0.  -0.5 +0.5]]\n",
      "\n",
      "Matrix for Hadamard gate on qubits 2,3\n",
      "[[+0.5 +0.5 +0.5 +0.5 +0.  +0.  +0.  +0. ]\n",
      " [+0.5 -0.5 +0.5 -0.5 +0.  -0.  +0.  -0. ]\n",
      " [+0.5 +0.5 -0.5 -0.5 +0.  +0.  -0.  -0. ]\n",
      " [+0.5 -0.5 -0.5 +0.5 +0.  -0.  -0.  +0. ]\n",
      " [+0.  +0.  +0.  +0.  +0.5 +0.5 +0.5 +0.5]\n",
      " [+0.  -0.  +0.  -0.  +0.5 -0.5 +0.5 -0.5]\n",
      " [+0.  +0.  -0.  -0.  +0.5 +0.5 -0.5 -0.5]\n",
      " [+0.  -0.  -0.  +0.  +0.5 -0.5 -0.5 +0.5]]\n",
      "\n",
      "Matrix for Hadamard gate on qubits 1,2,3\n",
      "[[+0.354 +0.354 +0.354 +0.354 +0.354 +0.354 +0.354 +0.354]\n",
      " [+0.354 -0.354 +0.354 -0.354 +0.354 -0.354 +0.354 -0.354]\n",
      " [+0.354 +0.354 -0.354 -0.354 +0.354 +0.354 -0.354 -0.354]\n",
      " [+0.354 -0.354 -0.354 +0.354 +0.354 -0.354 -0.354 +0.354]\n",
      " [+0.354 +0.354 +0.354 +0.354 -0.354 -0.354 -0.354 -0.354]\n",
      " [+0.354 -0.354 +0.354 -0.354 -0.354 +0.354 -0.354 +0.354]\n",
      " [+0.354 +0.354 -0.354 -0.354 -0.354 -0.354 +0.354 +0.354]\n",
      " [+0.354 -0.354 -0.354 +0.354 -0.354 +0.354 +0.354 -0.354]]\n"
     ]
    }
   ],
   "source": [
    "had1 = gateInBase(H, [1], n=3)\n",
    "\n",
    "had12 = gateInBase(H, [1,2], n=3)\n",
    "had13 = gateInBase(H, [1,3], n=3)\n",
    "had23 = gateInBase(H, [2,3], n=3)\n",
    "\n",
    "had123 = gateInBase(H, [1,2,3], n=3)\n",
    "\n",
    "# It suffices to check real part since imaginary part is always 0.\n",
    "print('Matrix for Hadamard gate on qubit 1')\n",
    "printnice(had1.real)\n",
    "\n",
    "print('\\nMatrix for Hadamard gate on qubits 1,2')\n",
    "printnice(had12.real)\n",
    "\n",
    "print('\\nMatrix for Hadamard gate on qubits 1,3')\n",
    "printnice(had13.real)\n",
    "\n",
    "print('\\nMatrix for Hadamard gate on qubits 2,3')\n",
    "printnice(had23.real)\n",
    "\n",
    "print('\\nMatrix for Hadamard gate on qubits 1,2,3')\n",
    "printnice(had123.real)\n"
   ]
  },
  {
   "attachments": {},
   "cell_type": "markdown",
   "metadata": {},
   "source": [
    "### 3.3 Controlled Gates\n",
    "Controlled Gates like C-NOT are only applied to a target qubit if a given control qubit is partly $|1\\rangle$<br/>\n",
    "**Recall:** Analogous to measuring a single qubit one can probe, if a certain qubit has a $|1\\rangle$ component<br/>\n",
    "\n",
    "One can use a [property of the Kronecker product](https://en.wikipedia.org/wiki/Kronecker_product#Relations_to_other_matrix_operations) and properties of the scalar product to proof this\n",
    "\n",
    "**Exercise for the dedicated**: Use $\\langle0|0\\rangle = \\langle1|1\\rangle = 1$ and $\\langle0|1\\rangle = \\langle1|0\\rangle = 0$ to show analytically how a CNOT gate works.<br/>\n",
    "**Hint:** Use the properties shown around universal gates. \n",
    "\n",
    "$\\begin{aligned}\n",
    "CNOT_{1-2} &= \\mathbb{I} \\otimes |0\\rangle\\langle0| + X\\otimes |1\\rangle\\langle 1|\n",
    "\\end{aligned}$\n",
    "\n",
    "$\\begin{aligned}\n",
    "CNOT_{2-1} &= |0\\rangle\\langle0|\\otimes\\mathbb{I} + |1\\rangle\\langle 1|\\otimes X\n",
    "\\end{aligned}$\n",
    "\n",
    "**Task:** Create a CNOT gate with control 1 and target 2 and vise versa"
   ]
  },
  {
   "cell_type": "code",
   "execution_count": 26,
   "metadata": {},
   "outputs": [
    {
     "name": "stdout",
     "output_type": "stream",
     "text": [
      "[[+1. +0. +0. +0.]\n",
      " [+0. +0. +0. +1.]\n",
      " [+0. +0. +1. +0.]\n",
      " [+0. +1. +0. +0.]]\n",
      "[[+1. +0. +0. +0.]\n",
      " [+0. +1. +0. +0.]\n",
      " [+0. +0. +0. +1.]\n",
      " [+0. +0. +1. +0.]]\n"
     ]
    }
   ],
   "source": [
    "CNOT12 = nKron([I, pro0]) + nKron([X, pro1])\n",
    "CNOT21 = nKron([pro0, I]) + nKron([pro1, X])\n",
    "\n",
    "printnice(CNOT12)\n",
    "\n",
    "printnice(CNOT21)"
   ]
  },
  {
   "attachments": {},
   "cell_type": "markdown",
   "metadata": {},
   "source": [
    "### Toffoli Gate\n",
    "$\\begin{aligned}\n",
    "CCNOT_{12-3} &= \\mathbb{I} \\otimes |0\\rangle\\langle0| \\otimes |0\\rangle\\langle0| + \\mathbb{I} \\otimes |0\\rangle\\langle0| \\otimes |1\\rangle\\langle1| + \\mathbb{I} \\otimes |1\\rangle\\langle1| \\otimes |0\\rangle\\langle0|+ X\\otimes |1\\rangle\\langle 1|\\otimes|1\\rangle\\langle 1|\\\\\n",
    "&= \\mathbb{I} \\otimes  (|0\\rangle\\langle0| \\otimes |0\\rangle\\langle0| + |0\\rangle\\langle0| \\otimes |1\\rangle\\langle1| + |1\\rangle\\langle1| \\otimes |0\\rangle\\langle0|) + X\\otimes |1\\rangle\\langle 1|\\otimes|1\\rangle\\langle 1|\n",
    "\\end{aligned}$\n",
    "\n",
    "**Task:** Create a Toffoli gate with control qubits 1 and 2 and target qubit 3. Compare the matrix with the [known solution](https://en.wikipedia.org/wiki/Toffoli_gate#Universality_and_Toffoli_gate)\n",
    "\n",
    "\n",
    "Achtung! LSB/MSB nicht konsitent little big endian"
   ]
  },
  {
   "cell_type": "code",
   "execution_count": 27,
   "metadata": {},
   "outputs": [
    {
     "name": "stdout",
     "output_type": "stream",
     "text": [
      "[[+1. +0. +0. +0. +0. +0. +0. +0.]\n",
      " [+0. +1. +0. +0. +0. +0. +0. +0.]\n",
      " [+0. +0. +1. +0. +0. +0. +0. +0.]\n",
      " [+0. +0. +0. +0. +0. +0. +0. +0.]\n",
      " [+0. +0. +0. +0. +1. +0. +0. +0.]\n",
      " [+0. +0. +0. +0. +0. +1. +0. +0.]\n",
      " [+0. +0. +0. +0. +0. +0. +1. +0.]\n",
      " [+0. +0. +0. +0. +0. +0. +0. +0.]]\n"
     ]
    }
   ],
   "source": [
    "toff = nKron([I, pro0, pro0]) + nKron([I, pro0, pro1]) + nKron([I, pro1, pro0]) #+ nKron([X, pro1, pro1])\n",
    "printnice(toff)"
   ]
  },
  {
   "attachments": {},
   "cell_type": "markdown",
   "metadata": {},
   "source": [
    "**Advanced-Task**: Describe how to build unitary controlled gates with more than one control qubit by analyzing the code snippet given below. Explain why it is not practicable to use the approach given above. "
   ]
  },
  {
   "cell_type": "code",
   "execution_count": 28,
   "metadata": {},
   "outputs": [],
   "source": [
    "# compare _controlledU() in qc_education_package/simulator.py\n",
    "def controlledGate(gate, control_qubit, target_Q_bit) -> np.array:\n",
    "    control_qubit = np.array(control_qubit, dtype=int) -1\n",
    "    \n",
    "    control1 = np.array([np.identity(2)] * n, dtype=complex)\n",
    "    control1[control_qubit] = ket1 @ bra1  # |1><1| check if |1>\n",
    "\n",
    "    I = np.identity(2**n)  # I for 2^n\n",
    "    control0 = I - nKron(control1)\n",
    "\n",
    "    # Add target operator\n",
    "    control1[target_Q_bit] = gate #  apply U if |1><1|\n",
    "    control1 = nKron(control1)  \n",
    "    \n",
    "    op = control0 + control1\n",
    "    return op"
   ]
  },
  {
   "attachments": {},
   "cell_type": "markdown",
   "metadata": {},
   "source": [
    "*Your solution here*"
   ]
  },
  {
   "attachments": {},
   "cell_type": "markdown",
   "metadata": {},
   "source": [
    "### 3.4 Measuring multiple qubits\n",
    "\n",
    "**Recall:** The absolute values of the components in the quantum register will give the probabilities to measure a certain state. \n",
    "To simulate a measurement one can use the ```np.random.choice(...)``` method.\n",
    "\n",
    "**Task:** Measure the 3 qubit state given below. Does the result change when repeating the measurement?"
   ]
  },
  {
   "cell_type": "code",
   "execution_count": 39,
   "metadata": {},
   "outputs": [
    {
     "name": "stdout",
     "output_type": "stream",
     "text": [
      "[1 0 1]\n",
      "[+0.  +0.5 +0.  +0.5 +0.  -0.5 +0.  -0.5]\n",
      "Measured state |101>.\n"
     ]
    }
   ],
   "source": [
    "a,b = 1,1\n",
    "psi = write_integer(5, n=3)\n",
    "had12 = gateInBase(H, [1,2], n=3)\n",
    "psi = had12 @ psi\n",
    "printnice(psi.real)\n",
    "# Measure the outcome of the state (measuring all qubits)\n",
    "\n",
    "# Optional. Create a histogram plot with the outcomes for 50 measurements.\n",
    "\n",
    "# compare read() in qc_education_package/simulator.py\n",
    "prop = np.square(np.abs(psi)).flatten()\n",
    "result = np.random.choice(a=2**n, p=prop) \n",
    "out = np.binary_repr(result).zfill(n)\n",
    "print(f\"Measured state |{out}>.\")"
   ]
  },
  {
   "attachments": {},
   "cell_type": "markdown",
   "metadata": {},
   "source": [
    "**Optional-Task**: Create a histogram plot with the outcomes for 50 measurements."
   ]
  },
  {
   "cell_type": "code",
   "execution_count": 30,
   "metadata": {},
   "outputs": [],
   "source": [
    "# Add histogram plot here"
   ]
  },
  {
   "attachments": {},
   "cell_type": "markdown",
   "metadata": {},
   "source": [
    "**Advanced-Task:** Use Projectors to explain how to measure a single qubit in a multi qubit register. What happens with the register after the measurement?."
   ]
  },
  {
   "attachments": {},
   "cell_type": "markdown",
   "metadata": {},
   "source": [
    "*Your solution here*"
   ]
  },
  {
   "attachments": {},
   "cell_type": "markdown",
   "metadata": {},
   "source": [
    "## 4. Quantuk QC Education Package\n",
    "\n",
    "We built an easy to understand quantum simulator with the methods shown in this exercise.\n",
    "\n",
    "Use below statement to install the so called Quantuk QC-Education Package to Your Jupyter environment."
   ]
  },
  {
   "cell_type": "code",
   "execution_count": 31,
   "metadata": {},
   "outputs": [],
   "source": [
    "!pip3 install --quiet --force-reinstall git+https://github.com/QuanTUK/QC-Education-Package.git  "
   ]
  },
  {
   "attachments": {},
   "cell_type": "markdown",
   "metadata": {},
   "source": [
    "Afterwards you have to **restart the jupyter kernel.**"
   ]
  },
  {
   "cell_type": "markdown",
   "metadata": {},
   "source": [
    "#### Initializing a simulator \n",
    "After importing the simulator can be initialized with the desired number of qubits.\n",
    "\n",
    "Although one can choose any number of qubits, it highly recommended to not use more than 10 qubits as complexity grows exponential ($\\Omega (2^n)$)"
   ]
  },
  {
   "cell_type": "code",
   "execution_count": 32,
   "metadata": {},
   "outputs": [],
   "source": [
    "from qc_education_package import Simulator, CircleNotation, DimensionalCircleNotation\n",
    "\n",
    "n = 3  # No. of qubits\n",
    "sim = Simulator(n)  # Create a quantum computer simulator object"
   ]
  },
  {
   "cell_type": "markdown",
   "metadata": {},
   "source": [
    "##### Setting up a Visualizer\n",
    "To set up a visualizer one can simply pass the simulator object to the visualization class of choice.\n",
    "Here we choose the Dimensional Circle Notation (DCN) as a visualization.  \n",
    "\n",
    "Other visualization methods as Circle Notation are available, too.\n",
    "All visualization methods interchangeable as they provide the same set of methods."
   ]
  },
  {
   "cell_type": "code",
   "execution_count": 33,
   "metadata": {},
   "outputs": [
    {
     "name": "stdout",
     "output_type": "stream",
     "text": [
      "3 qubit - Scaling text by 1.00\n",
      "Show\n"
     ]
    },
    {
     "data": {
      "image/png": "[encoded data removed]",
      "text/plain": [
       "<Figure size 640x480 with 1 Axes>"
      ]
     },
     "metadata": {},
     "output_type": "display_data"
    }
   ],
   "source": [
    "cn = CircleNotation(sim)\n",
    "dcn = DimensionalCircleNotation(sim)\n",
    "\n",
    "dcn.show()"
   ]
  },
  {
   "attachments": {},
   "cell_type": "markdown",
   "metadata": {},
   "source": [
    "Most quantum gates can be used by intuitive methode names. We provided two Jupyter Notebooks to introduce the package. Those can be found on OLAT\n",
    "\n",
    "- ```introduction.ipynb``` for general introduction on how to use the package and visualization methods \n",
    "- ```cheat-sheat.ipynb``` shorthand lookup "
   ]
  },
  {
   "attachments": {},
   "cell_type": "markdown",
   "metadata": {},
   "source": [
    "### 4.2 Example: Creating Bell States\n",
    "\n",
    "**Recall:** [Bell states](https://en.wikipedia.org/wiki/Bell_state#Bell_basis) are maximally entangled states (Lecture 5 - 25.05.23, Slide 31f)<br/>\n",
    "The example used in the lecture was the first bell state:<br/>\n",
    "\n",
    "$|Bell\\rangle_1 = \\frac{1}{\\sqrt{2}}\\left(|0\\rangle_2|0\\rangle_1 + |1\\rangle_2|1\\rangle_1\\right)$\n",
    "\n",
    "**Mini-Task** Add the other 3 Bell states below and compare their visualization\n",
    "\n"
   ]
  },
  {
   "cell_type": "code",
   "execution_count": 34,
   "metadata": {},
   "outputs": [
    {
     "name": "stdout",
     "output_type": "stream",
     "text": [
      "3 qubit - Scaling text by 1.00\n"
     ]
    },
    {
     "data": {
      "image/png": "[encoded data removed]",
      "text/plain": [
       "<Figure size 640x480 with 1 Axes>"
      ]
     },
     "metadata": {},
     "output_type": "display_data"
    }
   ],
   "source": [
    "from qc_education_package import Simulator, CircleNotation, DimensionalCircleNotation\n",
    "\n",
    "n = 3  # No. of qubits\n",
    "sim = Simulator(n)  # Create a quantum computer simulator object\n",
    "vis = DimensionalCircleNotation(sim)\n",
    "\n",
    "sim.had(1)\n",
    "sim.cNot(1,2)\n",
    "\n",
    "# For easy replication you can save the state of the simulator\n",
    "#sim.export_state('bell1') # Save state of simulator\n",
    "#sim.restoreFromFile('bell1.state')  # Restore from stored state\n",
    "\n",
    "vis.export_png('bell1.png')\n",
    "\n",
    "# Task: Create images for bell2 bell3 and bell4\n",
    "# ..."
   ]
  },
  {
   "attachments": {},
   "cell_type": "markdown",
   "metadata": {},
   "source": [
    "### 4.3 Advanced Task: Hands On quantum algorithms"
   ]
  },
  {
   "attachments": {},
   "cell_type": "markdown",
   "metadata": {},
   "source": [
    "\n",
    "Use the ```simulator``` class from the ```qc_education_package``` to simulate and visualize some advanced quantum circuits discussed in the last lecture (Lecture 5 25.05.23), e.g.\n",
    "- swap test (Slide 48)\n",
    "- super dense coding (Slide 51)\n",
    "- Quantum teleportation (Slide 57)"
   ]
  },
  {
   "cell_type": "code",
   "execution_count": 35,
   "metadata": {},
   "outputs": [],
   "source": [
    "from qc_education_package import Simulator, CircleNotation, DimensionalCircleNotation\n",
    "\n",
    "n = 3  # No. of qubits\n",
    "sim = Simulator(n)  # Create a quantum computer simulator object\n",
    "\n",
    "# Swap test"
   ]
  },
  {
   "cell_type": "code",
   "execution_count": 36,
   "metadata": {},
   "outputs": [],
   "source": [
    "from qc_education_package import Simulator, CircleNotation, DimensionalCircleNotation\n",
    "\n",
    "n = 3  # No. of qubits\n",
    "sim = Simulator(n)  # Create a quantum computer simulator object\n",
    "\n",
    "# Super Dense Coding"
   ]
  },
  {
   "cell_type": "code",
   "execution_count": 37,
   "metadata": {},
   "outputs": [],
   "source": [
    "from qc_education_package import Simulator, CircleNotation, DimensionalCircleNotation\n",
    "\n",
    "n = 3  # No. of qubits\n",
    "sim = Simulator(n)  # Create a quantum computer simulator object\n",
    "\n",
    "# Quantum key distribution"
   ]
  }
 ],
 "metadata": {
  "kernelspec": {
   "display_name": ".venv",
   "language": "python",
   "name": "python3"
  },
  "language_info": {
   "codemirror_mode": {
    "name": "ipython",
    "version": 3
   },
   "file_extension": ".py",
   "mimetype": "text/x-python",
   "name": "python",
   "nbconvert_exporter": "python",
   "pygments_lexer": "ipython3",
   "version": "3.10.6"
  },
  "orig_nbformat": 4,
  "vscode": {
   "interpreter": {
    "hash": "c4d56d8741c241137a56a7329142632096156eba0a6ce416392a8d16d90a423f"
   }
  }
 },
 "nbformat": 4,
 "nbformat_minor": 2
}
