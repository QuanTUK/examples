{
 "cells": [
  {
   "attachments": {},
   "cell_type": "markdown",
   "metadata": {},
   "source": [
    "#### Getting help with builtin documentation\n",
    "Most jupyter notebook enviroments will provide short documentation when either\n",
    "1. Placing the cursor in between empty parantheses (e.g. Google collab)"
   ]
  },
  {
   "cell_type": "code",
   "execution_count": 1,
   "metadata": {},
   "outputs": [
    {
     "data": {
      "text/plain": [
       "array([[ 0.70710678,  0.70710678],\n",
       "       [ 0.70710678, -0.70710678]])"
      ]
     },
     "execution_count": 1,
     "metadata": {},
     "output_type": "execute_result"
    }
   ],
   "source": [
    "from qc_education_package import Simulator\n",
    "sim = Simulator(1)\n",
    "\n",
    "sim.had()  # place cursor in between parantheses to show documentation"
   ]
  },
  {
   "attachments": {},
   "cell_type": "markdown",
   "metadata": {},
   "source": [
    "2. Execute ```help(...)```"
   ]
  },
  {
   "cell_type": "code",
   "execution_count": 2,
   "metadata": {},
   "outputs": [
    {
     "name": "stdout",
     "output_type": "stream",
     "text": [
      "Help on method had in module qc_education_package.simulator:\n",
      "\n",
      "had(qubit=None) -> <built-in function array> method of qc_education_package.simulator.Simulator instance\n",
      "    Applies the hadamard gate to given qubit(s).\n",
      "    If no qubit is given (qubit=None) hadamard gate will be applied to all qubits.\n",
      "    \n",
      "    Args:\n",
      "        qubit (int or list(int), optional): qubit(s) to apply HAD to. Defaults to None.\n",
      "    \n",
      "    Returns:\n",
      "        np.array: Matrix for hadamard gate on given qubit in comp. basis.\n",
      "\n"
     ]
    }
   ],
   "source": [
    "help(sim.had)"
   ]
  },
  {
   "attachments": {},
   "cell_type": "markdown",
   "metadata": {},
   "source": [
    "3 Execute with tailing ```?``` in cell"
   ]
  },
  {
   "cell_type": "code",
   "execution_count": 8,
   "metadata": {},
   "outputs": [
    {
     "name": "stdout",
     "output_type": "stream",
     "text": [
      "\u001b[0;31mSignature:\u001b[0m \u001b[0msim\u001b[0m\u001b[0;34m.\u001b[0m\u001b[0mhad\u001b[0m\u001b[0;34m(\u001b[0m\u001b[0mqubit\u001b[0m\u001b[0;34m=\u001b[0m\u001b[0;32mNone\u001b[0m\u001b[0;34m)\u001b[0m \u001b[0;34m->\u001b[0m \u001b[0;34m<\u001b[0m\u001b[0mbuilt\u001b[0m\u001b[0;34m-\u001b[0m\u001b[0;32min\u001b[0m \u001b[0mfunction\u001b[0m \u001b[0marray\u001b[0m\u001b[0;34m>\u001b[0m\u001b[0;34m\u001b[0m\u001b[0;34m\u001b[0m\u001b[0m\n",
      "\u001b[0;31mDocstring:\u001b[0m\n",
      "Applies the hadamard gate to given qubit(s).\n",
      "If no qubit is given (qubit=None) hadamard gate will be applied to all qubits.\n",
      "\n",
      "Args:\n",
      "    qubit (int or list(int), optional): qubit(s) to apply HAD to. Defaults to None.\n",
      "\n",
      "Returns:\n",
      "    np.array: Matrix for hadamard gate on given qubit in comp. basis.\n",
      "\u001b[0;31mFile:\u001b[0m      ~/Seafile/Uni/Austausch Max Niki/dcn_examples/.venv/lib/python3.10/site-packages/qc_education_package/simulator.py\n",
      "\u001b[0;31mType:\u001b[0m      method"
     ]
    }
   ],
   "source": [
    "sim.had?"
   ]
  },
  {
   "attachments": {},
   "cell_type": "markdown",
   "metadata": {},
   "source": [
    "## Single qubit gates"
   ]
  },
  {
   "cell_type": "code",
   "execution_count": 7,
   "metadata": {},
   "outputs": [],
   "source": [
    "from qc_education_package import Simulator, CircleNotation, DimensionalCircleNotation\n",
    "sim = Simulator(3)"
   ]
  },
  {
   "cell_type": "code",
   "execution_count": 8,
   "metadata": {},
   "outputs": [
    {
     "data": {
      "text/plain": [
       "array([[0.+0.j, 1.+0.j, 0.+0.j, 0.+0.j, 0.+0.j, 0.+0.j, 0.+0.j, 0.+0.j],\n",
       "       [1.+0.j, 0.+0.j, 0.+0.j, 0.+0.j, 0.+0.j, 0.+0.j, 0.+0.j, 0.+0.j],\n",
       "       [0.+0.j, 0.+0.j, 0.+0.j, 1.+0.j, 0.+0.j, 0.+0.j, 0.+0.j, 0.+0.j],\n",
       "       [0.+0.j, 0.+0.j, 1.+0.j, 0.+0.j, 0.+0.j, 0.+0.j, 0.+0.j, 0.+0.j],\n",
       "       [0.+0.j, 0.+0.j, 0.+0.j, 0.+0.j, 0.+0.j, 1.+0.j, 0.+0.j, 0.+0.j],\n",
       "       [0.+0.j, 0.+0.j, 0.+0.j, 0.+0.j, 1.+0.j, 0.+0.j, 0.+0.j, 0.+0.j],\n",
       "       [0.+0.j, 0.+0.j, 0.+0.j, 0.+0.j, 0.+0.j, 0.+0.j, 0.+0.j, 1.+0.j],\n",
       "       [0.+0.j, 0.+0.j, 0.+0.j, 0.+0.j, 0.+0.j, 0.+0.j, 1.+0.j, 0.+0.j]])"
      ]
     },
     "execution_count": 8,
     "metadata": {},
     "output_type": "execute_result"
    }
   ],
   "source": [
    "sim.had(1)\n",
    "sim.qnot(1)"
   ]
  },
  {
   "cell_type": "markdown",
   "metadata": {},
   "source": [
    "Pauli-Gates"
   ]
  },
  {
   "cell_type": "code",
   "execution_count": null,
   "metadata": {},
   "outputs": [],
   "source": [
    "sim.x(1)  # equals qnot(1)\n",
    "sim.y(1)\n",
    "sim.z(1)  # equals phase(1, 180)\n",
    "sim.flip(1)  # alias for z(1)"
   ]
  },
  {
   "attachments": {},
   "cell_type": "markdown",
   "metadata": {},
   "source": [
    "Root Gates"
   ]
  },
  {
   "cell_type": "code",
   "execution_count": null,
   "metadata": {},
   "outputs": [],
   "source": [
    "sim.rootX(1)\n",
    "sim.rootNot(1)  # alias for rootX\n",
    "sim.rootZ(1)"
   ]
  },
  {
   "attachments": {},
   "cell_type": "markdown",
   "metadata": {},
   "source": [
    "## Phase Gates"
   ]
  },
  {
   "attachments": {},
   "cell_type": "markdown",
   "metadata": {},
   "source": [
    "### fixed-angle"
   ]
  },
  {
   "cell_type": "code",
   "execution_count": null,
   "metadata": {},
   "outputs": [],
   "source": [
    "sim.s(1)  # equals phase(1, 90) -> 90 deg Phase gate\n",
    "sim.t(1)  # equals phase(1, 45) -> 45 deg Phase gate"
   ]
  },
  {
   "attachments": {},
   "cell_type": "markdown",
   "metadata": {},
   "source": [
    "Variable angle (in deg)"
   ]
  },
  {
   "cell_type": "code",
   "execution_count": null,
   "metadata": {},
   "outputs": [],
   "source": [
    "angle = 90  # deg\n",
    "sim.phase(1, angle)"
   ]
  },
  {
   "attachments": {},
   "cell_type": "markdown",
   "metadata": {},
   "source": [
    "## Bloch sphere rotations"
   ]
  },
  {
   "cell_type": "code",
   "execution_count": 4,
   "metadata": {},
   "outputs": [
    {
     "data": {
      "text/plain": [
       "array([[0.70710678-0.70710678j, 0.        +0.j        ],\n",
       "       [0.        +0.j        , 0.70710678+0.70710678j]])"
      ]
     },
     "execution_count": 4,
     "metadata": {},
     "output_type": "execute_result"
    }
   ],
   "source": [
    "sim.rx(90, 1)  # Rx gate\n",
    "sim.ry(90, 1)  # Ry gate\n",
    "sim.rz(90, 1)  # Rz gate\n"
   ]
  },
  {
   "attachments": {},
   "cell_type": "markdown",
   "metadata": {},
   "source": [
    "Multi Qubit gates"
   ]
  },
  {
   "cell_type": "code",
   "execution_count": 9,
   "metadata": {},
   "outputs": [
    {
     "data": {
      "text/plain": [
       "array([[ 0.35355339,  0.35355339,  0.35355339,  0.35355339,  0.35355339,\n",
       "         0.35355339,  0.35355339,  0.35355339],\n",
       "       [ 0.35355339, -0.35355339,  0.35355339, -0.35355339,  0.35355339,\n",
       "        -0.35355339,  0.35355339, -0.35355339],\n",
       "       [ 0.35355339,  0.35355339, -0.35355339, -0.35355339,  0.35355339,\n",
       "         0.35355339, -0.35355339, -0.35355339],\n",
       "       [ 0.35355339, -0.35355339, -0.35355339,  0.35355339,  0.35355339,\n",
       "        -0.35355339, -0.35355339,  0.35355339],\n",
       "       [ 0.35355339,  0.35355339,  0.35355339,  0.35355339, -0.35355339,\n",
       "        -0.35355339, -0.35355339, -0.35355339],\n",
       "       [ 0.35355339, -0.35355339,  0.35355339, -0.35355339, -0.35355339,\n",
       "         0.35355339, -0.35355339,  0.35355339],\n",
       "       [ 0.35355339,  0.35355339, -0.35355339, -0.35355339, -0.35355339,\n",
       "        -0.35355339,  0.35355339,  0.35355339],\n",
       "       [ 0.35355339, -0.35355339, -0.35355339,  0.35355339, -0.35355339,\n",
       "         0.35355339,  0.35355339, -0.35355339]])"
      ]
     },
     "execution_count": 9,
     "metadata": {},
     "output_type": "execute_result"
    }
   ],
   "source": [
    "sim.had(1)  # apply to single qubit\n",
    "sim.had([1,2])  # apply to multiple qubits\n",
    "sim.had()  # apply to all qubits"
   ]
  },
  {
   "attachments": {},
   "cell_type": "markdown",
   "metadata": {},
   "source": [
    "Controlled Gates"
   ]
  },
  {
   "cell_type": "code",
   "execution_count": 10,
   "metadata": {},
   "outputs": [
    {
     "data": {
      "text/plain": [
       "array([[1.+0.j, 0.+0.j, 0.+0.j, 0.+0.j, 0.+0.j, 0.+0.j, 0.+0.j, 0.+0.j],\n",
       "       [0.+0.j, 1.+0.j, 0.+0.j, 0.+0.j, 0.+0.j, 0.+0.j, 0.+0.j, 0.+0.j],\n",
       "       [0.+0.j, 0.+0.j, 1.+0.j, 0.+0.j, 0.+0.j, 0.+0.j, 0.+0.j, 0.+0.j],\n",
       "       [0.+0.j, 0.+0.j, 0.+0.j, 0.+0.j, 0.+0.j, 1.+0.j, 0.+0.j, 0.+0.j],\n",
       "       [0.+0.j, 0.+0.j, 0.+0.j, 0.+0.j, 1.+0.j, 0.+0.j, 0.+0.j, 0.+0.j],\n",
       "       [0.+0.j, 0.+0.j, 0.+0.j, 1.+0.j, 0.+0.j, 0.+0.j, 0.+0.j, 0.+0.j],\n",
       "       [0.+0.j, 0.+0.j, 0.+0.j, 0.+0.j, 0.+0.j, 0.+0.j, 1.+0.j, 0.+0.j],\n",
       "       [0.+0.j, 0.+0.j, 0.+0.j, 0.+0.j, 0.+0.j, 0.+0.j, 0.+0.j, 1.+0.j]])"
      ]
     },
     "execution_count": 10,
     "metadata": {},
     "output_type": "execute_result"
    }
   ],
   "source": [
    "control = 1\n",
    "target = 2\n",
    "sim.cNot(control, target)\n",
    "sim.cNot(1,2)\n",
    "\n",
    "sim.cNot([1,2],3)\n",
    "sim.ccNot(1,2,3)  # alias\n",
    "\n",
    "sim.cHad(1,2)\n",
    "sim.cZ(1,2)\n",
    "\n",
    "angle = 90  # deg\n",
    "sim.cPhase(angle, 1, 2) # phase control target\n",
    "sim.cRx(angle, 1, 2)\n",
    "sim.cRy(angle, 1, 2)\n",
    "sim.cRz(angle, 1, 2)\n",
    "\n",
    "control = 1\n",
    "swap1 = 2\n",
    "swap2 = 3\n",
    "sim.cSwap(control,swap1,swap2)\n",
    "\n"
   ]
  }
 ],
 "metadata": {
  "kernelspec": {
   "display_name": ".venv",
   "language": "python",
   "name": "python3"
  },
  "language_info": {
   "codemirror_mode": {
    "name": "ipython",
    "version": 3
   },
   "file_extension": ".py",
   "mimetype": "text/x-python",
   "name": "python",
   "nbconvert_exporter": "python",
   "pygments_lexer": "ipython3",
   "version": "3.10.6"
  },
  "orig_nbformat": 4,
  "vscode": {
   "interpreter": {
    "hash": "c4d56d8741c241137a56a7329142632096156eba0a6ce416392a8d16d90a423f"
   }
  }
 },
 "nbformat": 4,
 "nbformat_minor": 2
}
