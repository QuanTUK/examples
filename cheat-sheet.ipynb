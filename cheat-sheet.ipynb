{
 "cells": [
  {
   "attachments": {},
   "cell_type": "markdown",
   "metadata": {},
   "source": [
    "#### Getting help with builtin documentation\n",
    "Most jupyter notebook enviroments will provide short documentation when either\n",
    "1. Placing the cursor in between empty parantheses (e.g. Google collab)"
   ]
  },
  {
   "cell_type": "code",
   "execution_count": 6,
   "metadata": {},
   "outputs": [
    {
     "data": {
      "text/plain": [
       "array([[ 0.35355339,  0.35355339,  0.35355339,  0.35355339,  0.35355339,\n",
       "         0.35355339,  0.35355339,  0.35355339],\n",
       "       [ 0.35355339, -0.35355339,  0.35355339, -0.35355339,  0.35355339,\n",
       "        -0.35355339,  0.35355339, -0.35355339],\n",
       "       [ 0.35355339,  0.35355339, -0.35355339, -0.35355339,  0.35355339,\n",
       "         0.35355339, -0.35355339, -0.35355339],\n",
       "       [ 0.35355339, -0.35355339, -0.35355339,  0.35355339,  0.35355339,\n",
       "        -0.35355339, -0.35355339,  0.35355339],\n",
       "       [ 0.35355339,  0.35355339,  0.35355339,  0.35355339, -0.35355339,\n",
       "        -0.35355339, -0.35355339, -0.35355339],\n",
       "       [ 0.35355339, -0.35355339,  0.35355339, -0.35355339, -0.35355339,\n",
       "         0.35355339, -0.35355339,  0.35355339],\n",
       "       [ 0.35355339,  0.35355339, -0.35355339, -0.35355339, -0.35355339,\n",
       "        -0.35355339,  0.35355339,  0.35355339],\n",
       "       [ 0.35355339, -0.35355339, -0.35355339,  0.35355339, -0.35355339,\n",
       "         0.35355339,  0.35355339, -0.35355339]])"
      ]
     },
     "execution_count": 6,
     "metadata": {},
     "output_type": "execute_result"
    }
   ],
   "source": [
    "sim.had()  # place cursor in between parantheses to show documentation"
   ]
  },
  {
   "attachments": {},
   "cell_type": "markdown",
   "metadata": {},
   "source": [
    "2. Execute ```help(...)```"
   ]
  },
  {
   "cell_type": "code",
   "execution_count": 7,
   "metadata": {},
   "outputs": [
    {
     "name": "stdout",
     "output_type": "stream",
     "text": [
      "Help on method had in module qc_education_package.simulator:\n",
      "\n",
      "had(qubit=None) -> <built-in function array> method of qc_education_package.simulator.Simulator instance\n",
      "    Applies the hadamard gate to given qubit(s).\n",
      "    If no qubit is given (qubit=None) hadamard gate will be applied to all qubits.\n",
      "    \n",
      "    Args:\n",
      "        qubit (int or list(int), optional): qubit(s) to apply HAD to. Defaults to None.\n",
      "    \n",
      "    Returns:\n",
      "        np.array: Matrix for hadamard gate on given qubit in comp. basis.\n",
      "\n"
     ]
    }
   ],
   "source": [
    "from qc_education_package import Simulator\n",
    "sim = Simulator(1)\n",
    "\n",
    "help(sim.had)"
   ]
  },
  {
   "attachments": {},
   "cell_type": "markdown",
   "metadata": {},
   "source": [
    "3 Execute with tailing ```?``` in cell"
   ]
  },
  {
   "cell_type": "code",
   "execution_count": 8,
   "metadata": {},
   "outputs": [
    {
     "name": "stdout",
     "output_type": "stream",
     "text": [
      "\u001b[0;31mSignature:\u001b[0m \u001b[0msim\u001b[0m\u001b[0;34m.\u001b[0m\u001b[0mhad\u001b[0m\u001b[0;34m(\u001b[0m\u001b[0mqubit\u001b[0m\u001b[0;34m=\u001b[0m\u001b[0;32mNone\u001b[0m\u001b[0;34m)\u001b[0m \u001b[0;34m->\u001b[0m \u001b[0;34m<\u001b[0m\u001b[0mbuilt\u001b[0m\u001b[0;34m-\u001b[0m\u001b[0;32min\u001b[0m \u001b[0mfunction\u001b[0m \u001b[0marray\u001b[0m\u001b[0;34m>\u001b[0m\u001b[0;34m\u001b[0m\u001b[0;34m\u001b[0m\u001b[0m\n",
      "\u001b[0;31mDocstring:\u001b[0m\n",
      "Applies the hadamard gate to given qubit(s).\n",
      "If no qubit is given (qubit=None) hadamard gate will be applied to all qubits.\n",
      "\n",
      "Args:\n",
      "    qubit (int or list(int), optional): qubit(s) to apply HAD to. Defaults to None.\n",
      "\n",
      "Returns:\n",
      "    np.array: Matrix for hadamard gate on given qubit in comp. basis.\n",
      "\u001b[0;31mFile:\u001b[0m      ~/Seafile/Uni/Austausch Max Niki/dcn_examples/.venv/lib/python3.10/site-packages/qc_education_package/simulator.py\n",
      "\u001b[0;31mType:\u001b[0m      method"
     ]
    }
   ],
   "source": [
    "sim.had?"
   ]
  },
  {
   "attachments": {},
   "cell_type": "markdown",
   "metadata": {},
   "source": [
    "## Single qubit gates"
   ]
  },
  {
   "cell_type": "code",
   "execution_count": 9,
   "metadata": {},
   "outputs": [],
   "source": [
    "from qc_education_package import Simulator, CircleNotation, DimensionalCircleNotation\n",
    "sim = Simulator(3)"
   ]
  },
  {
   "attachments": {},
   "cell_type": "markdown",
   "metadata": {},
   "source": [
    "sim.had(1)\n",
    "sim.qnot(1)"
   ]
  },
  {
   "cell_type": "markdown",
   "metadata": {},
   "source": [
    "Pauli-Gates"
   ]
  },
  {
   "cell_type": "code",
   "execution_count": null,
   "metadata": {},
   "outputs": [],
   "source": [
    "sim.x(1)  # equals qnot(1)\n",
    "sim.y(1)\n",
    "sim.z(1)  # equals phase(1, 180)\n",
    "sim.flip(1)  # alias for z(1)"
   ]
  },
  {
   "attachments": {},
   "cell_type": "markdown",
   "metadata": {},
   "source": [
    "Root Gates"
   ]
  },
  {
   "cell_type": "code",
   "execution_count": null,
   "metadata": {},
   "outputs": [],
   "source": [
    "sim.rootX(1)\n",
    "sim.rootNot(1)  # alias for rootX\n",
    "sim.rootZ(1)"
   ]
  },
  {
   "attachments": {},
   "cell_type": "markdown",
   "metadata": {},
   "source": [
    "## Phase Gates"
   ]
  },
  {
   "attachments": {},
   "cell_type": "markdown",
   "metadata": {},
   "source": [
    "### fixed-angle"
   ]
  },
  {
   "cell_type": "code",
   "execution_count": null,
   "metadata": {},
   "outputs": [],
   "source": [
    "sim.s(1)  # equals phase(1, 90) -> 90 deg Phase gate\n",
    "sim.t(1)  # equals phase(1, 45) -> 45 deg Phase gate"
   ]
  },
  {
   "attachments": {},
   "cell_type": "markdown",
   "metadata": {},
   "source": [
    "Variable angle (in deg)"
   ]
  },
  {
   "cell_type": "code",
   "execution_count": null,
   "metadata": {},
   "outputs": [],
   "source": [
    "angle = 90  # deg\n",
    "sim.phase(1, angle)"
   ]
  },
  {
   "attachments": {},
   "cell_type": "markdown",
   "metadata": {},
   "source": [
    "## Bloch sphere rotations"
   ]
  },
  {
   "cell_type": "code",
   "execution_count": 10,
   "metadata": {},
   "outputs": [
    {
     "ename": "AttributeError",
     "evalue": "'Simulator' object has no attribute 'rootX'",
     "output_type": "error",
     "traceback": [
      "\u001b[0;31m---------------------------------------------------------------------------\u001b[0m",
      "\u001b[0;31mAttributeError\u001b[0m                            Traceback (most recent call last)",
      "Cell \u001b[0;32mIn[10], line 11\u001b[0m\n\u001b[1;32m      8\u001b[0m sim\u001b[39m.\u001b[39my(\u001b[39m1\u001b[39m)\n\u001b[1;32m      9\u001b[0m sim\u001b[39m.\u001b[39mz(\u001b[39m1\u001b[39m)  \u001b[39m# equals phase(1, 180)\u001b[39;00m\n\u001b[0;32m---> 11\u001b[0m sim\u001b[39m.\u001b[39;49mrootX(\u001b[39m1\u001b[39m)\n\u001b[1;32m     12\u001b[0m sim\u001b[39m.\u001b[39mrootNot(\u001b[39m1\u001b[39m)  \u001b[39m# alias for rootX\u001b[39;00m\n\u001b[1;32m     13\u001b[0m sim\u001b[39m.\u001b[39mrootZ(\u001b[39m1\u001b[39m)\n",
      "\u001b[0;31mAttributeError\u001b[0m: 'Simulator' object has no attribute 'rootX'"
     ]
    }
   ],
   "source": [
    "sim.rx(1, 90)  # Rx gate\n",
    "sim.ry(1, 90)  # Ry gate\n",
    "sim.rz(1, 90)  # Rz gate\n"
   ]
  },
  {
   "attachments": {},
   "cell_type": "markdown",
   "metadata": {},
   "source": [
    "Multi Qubit gates"
   ]
  },
  {
   "cell_type": "code",
   "execution_count": null,
   "metadata": {},
   "outputs": [],
   "source": [
    "sim.had(1)  # apply to single qubit\n",
    "sim.had([1,2])  # apply to multiple qubits\n",
    "sim.had()  # apply to all qubits"
   ]
  },
  {
   "attachments": {},
   "cell_type": "markdown",
   "metadata": {},
   "source": [
    "Controlled Gates"
   ]
  },
  {
   "cell_type": "code",
   "execution_count": null,
   "metadata": {},
   "outputs": [
    {
     "ename": "NameError",
     "evalue": "name 'sim' is not defined",
     "output_type": "error",
     "traceback": [
      "\u001b[0;31m---------------------------------------------------------------------------\u001b[0m\n",
      "\u001b[0;31mNameError\u001b[0m                                 Traceback (most recent call last)\n",
      "Cell \u001b[0;32mIn[3], line 3\u001b[0m\n",
      "\u001b[1;32m      1\u001b[0m control \u001b[39m=\u001b[39m \u001b[39m1\u001b[39m\n",
      "\u001b[1;32m      2\u001b[0m target \u001b[39m=\u001b[39m \u001b[39m2\u001b[39m\n",
      "\u001b[0;32m----> 3\u001b[0m sim\u001b[39m.\u001b[39mcNot(control, target)\n",
      "\u001b[1;32m      4\u001b[0m sim\u001b[39m.\u001b[39mcNot(\u001b[39m1\u001b[39m,\u001b[39m2\u001b[39m)\n",
      "\u001b[1;32m      6\u001b[0m sim\u001b[39m.\u001b[39mcNot([\u001b[39m1\u001b[39m,\u001b[39m2\u001b[39m],\u001b[39m3\u001b[39m)\n",
      "\n",
      "\u001b[0;31mNameError\u001b[0m: name 'sim' is not defined"
     ]
    }
   ],
   "source": [
    "control = 1\n",
    "target = 2\n",
    "sim.cNot(control, target)\n",
    "sim.cNot(1,2)\n",
    "\n",
    "sim.cNot([1,2],3)\n",
    "sim.ccNot(1,2,3)  # alias\n",
    "\n",
    "sim.cHad(1,2)\n",
    "sim.cZ(1,2)\n",
    "\n",
    "angle = 90  # deg\n",
    "sim.cPhase(1,2, angle) # die passen nicht zur regel immer phase zuerst, TODO anpassen in simulator und DCN webtool\n",
    "sim.cRx(1,2, angle)\n",
    "sim.cRy(1,2, angle)\n",
    "sim.cRz(1,2, angle)\n",
    "\n",
    "control = 1\n",
    "swap1 = 2\n",
    "swap2 = 3\n",
    "sim.cSwap(control,swap1,swap2)\n",
    "\n"
   ]
  }
 ],
 "metadata": {
  "kernelspec": {
   "display_name": ".venv",
   "language": "python",
   "name": "python3"
  },
  "language_info": {
   "codemirror_mode": {
    "name": "ipython",
    "version": 3
   },
   "file_extension": ".py",
   "mimetype": "text/x-python",
   "name": "python",
   "nbconvert_exporter": "python",
   "pygments_lexer": "ipython3",
   "version": "3.10.6"
  },
  "orig_nbformat": 4,
  "vscode": {
   "interpreter": {
    "hash": "c4d56d8741c241137a56a7329142632096156eba0a6ce416392a8d16d90a423f"
   }
  }
 },
 "nbformat": 4,
 "nbformat_minor": 2
}
