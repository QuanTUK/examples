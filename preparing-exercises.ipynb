{
 "cells": [
  {
   "attachments": {},
   "cell_type": "markdown",
   "metadata": {},
   "source": [
    "### Preparing of examples or exercises\n",
    "When lecturer wants to prepare exercises or examples for students or in-class demonstration\n",
    "\n",
    "#### Simple qubit states"
   ]
  },
  {
   "cell_type": "code",
   "execution_count": 2,
   "metadata": {},
   "outputs": [],
   "source": [
    "from qc_education_package import Simulator\n",
    "\n",
    "sim = Simulator(3)\n",
    "\n",
    "sim.reset(2)\n",
    "\n",
    "sim.write(1)\n",
    "\n"
   ]
  },
  {
   "attachments": {},
   "cell_type": "markdown",
   "metadata": {},
   "source": [
    "Arbitrary mixed states"
   ]
  },
  {
   "cell_type": "code",
   "execution_count": null,
   "metadata": {},
   "outputs": [],
   "source": [
    "sim = Simulator(1)\n",
    "\n",
    "sim.write_magn_phase([1,1],[1,1])  # register level\n",
    "# Values for |0> and |1>\n",
    "\n",
    "# polar or euler representation of complex numbers\n",
    "sim.write_complex[1+1j, 1*np.exp(1j)]"
   ]
  },
  {
   "attachments": {},
   "cell_type": "markdown",
   "metadata": {},
   "source": [
    "##### Export state of simulator\n",
    "\n",
    "eg when we used a few gates to bring a simulator to a desired state instead of hardcoding magnitudes and phases to register\n",
    "or for comparing solutions"
   ]
  },
  {
   "cell_type": "code",
   "execution_count": 7,
   "metadata": {},
   "outputs": [
    {
     "name": "stdout",
     "output_type": "stream",
     "text": [
      "True\n",
      "True\n"
     ]
    }
   ],
   "source": [
    "\n",
    "\n",
    "# Inside a python script\n",
    "simState = str(sim)\n",
    "\n",
    "sim2 = Simulator(jsonDump=simState)\n",
    "print(sim2 == sim)\n",
    "\n",
    "sim.export_state('sim2')\n",
    "\n",
    "sim3 = Simulator(file='sim2.state')\n",
    "print(sim3 == sim)"
   ]
  },
  {
   "cell_type": "code",
   "execution_count": null,
   "metadata": {},
   "outputs": [],
   "source": []
  }
 ],
 "metadata": {
  "kernelspec": {
   "display_name": ".venv",
   "language": "python",
   "name": "python3"
  },
  "language_info": {
   "codemirror_mode": {
    "name": "ipython",
    "version": 3
   },
   "file_extension": ".py",
   "mimetype": "text/x-python",
   "name": "python",
   "nbconvert_exporter": "python",
   "pygments_lexer": "ipython3",
   "version": "3.10.6"
  },
  "orig_nbformat": 4,
  "vscode": {
   "interpreter": {
    "hash": "c4d56d8741c241137a56a7329142632096156eba0a6ce416392a8d16d90a423f"
   }
  }
 },
 "nbformat": 4,
 "nbformat_minor": 2
}
