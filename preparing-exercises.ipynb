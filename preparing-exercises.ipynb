{
 "cells": [
  {
   "attachments": {},
   "cell_type": "markdown",
   "metadata": {},
   "source": [
    "### Preparing of examples or exercises\n",
    "When lecturer wants to prepare exercises or examples for students or in-class demonstration\n",
    "\n",
    "#### Simple qubit states"
   ]
  },
  {
   "cell_type": "code",
   "execution_count": null,
   "metadata": {},
   "outputs": [],
   "source": [
    "from qc_education_package import simulator\n",
    "\n",
    "sim = Simulator(3)\n",
    "\n",
    "sim.reset(2)\n",
    "\n",
    "sim.write(1)\n",
    "\n"
   ]
  },
  {
   "attachments": {},
   "cell_type": "markdown",
   "metadata": {},
   "source": [
    "Arbitrary mixed states"
   ]
  },
  {
   "cell_type": "code",
   "execution_count": null,
   "metadata": {},
   "outputs": [],
   "source": [
    "sim = Simulator(1)\n",
    "\n",
    "sim.write_magn_phase([1,1],[1,1])  # register level\n",
    "# Values for |0> and |1>\n",
    "\n",
    "# polar or euler representation of complex numbers\n",
    "sim.write_complex[1+1j, 1*np.exp(1j)]"
   ]
  },
  {
   "attachments": {},
   "cell_type": "markdown",
   "metadata": {},
   "source": [
    "##### Export state of simulator\n",
    "\n",
    "eg when we used a few gates to bring a simulator to a desired state instead of hardcoding magnitudes and phases to register\n",
    "or for comparing solutions"
   ]
  },
  {
   "cell_type": "code",
   "execution_count": null,
   "metadata": {},
   "outputs": [],
   "source": [
    "\n",
    "\n",
    "# Inside a python script\n",
    "simState = str(sim)\n",
    "print(simState)\n",
    "sim = Simulator(jsonDump=simState)\n",
    "\n",
    "\n",
    "# Store to send others\n",
    "# TODO: import and export(fname) in simulator einbauen\n",
    "with open(\"simState.txt\", \"w\") as text_file:\n",
    "    text_file.write(str(sim))\n",
    "    text_file.close()\n",
    "\n",
    "# Restore from file\n",
    "with open(\"simState.txt\", \"r\") as text_file:\n",
    "    state = text_file.read();\n",
    "    print(state)\n",
    "    text_file.close\n",
    "\n",
    "newSim = Simulator(jsonDump=state)  # Das ist nicht so schön\n",
    "\n",
    "print(sim == newSim) # equals noch nicht im github\n"
   ]
  },
  {
   "cell_type": "code",
   "execution_count": null,
   "metadata": {},
   "outputs": [],
   "source": []
  }
 ],
 "metadata": {
  "language_info": {
   "name": "python"
  },
  "orig_nbformat": 4
 },
 "nbformat": 4,
 "nbformat_minor": 2
}
